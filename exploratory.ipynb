{
 "cells": [
  {
   "cell_type": "code",
   "execution_count": 0,
   "id": "a6c22d",
   "metadata": {
    "collapsed": false
   },
   "outputs": [
   ],
   "source": [
    "#imports\n",
    "from PIL import Image\n",
    "from transformers import BlipProcessor, BlipForConditionalGeneration\n",
    "import torch"
   ]
  },
  {
   "cell_type": "code",
   "execution_count": 0,
   "id": "16ac64",
   "metadata": {
    "collapsed": false
   },
   "outputs": [
   ],
   "source": [
    "#Load BLIP\n",
    "processor = BlipProcessor.from_pretrained(\"Salesforce/blip-image-captioning-base\")\n",
    "model = BlipForConditionalGeneration.from_pretrained(\"Salesforce/blip-image-captioning-base\")\n",
    "device = \"cuda\" if torch.cuda.is_available() else \"cpu\"\n",
    "model = model.to(device)"
   ]
  },
  {
   "cell_type": "code",
   "execution_count": 0,
   "id": "ab2d68",
   "metadata": {
    "collapsed": false
   },
   "outputs": [
   ],
   "source": [
    "#Test with sample image\n",
    "img = Image.open(\"sample_slide.png\").convert(\"RGB\")\n",
    "inputs = processor(images=img, return_tensors=\"pt\").to(device)\n",
    "out = model.generate(**inputs, max_length=40)\n",
    "caption = processor.decode(out[0], skip_special_tokens=True)\n",
    "print(\"Generated caption:\", caption)"
   ]
  }
 ],
 "metadata": {
  "kernelspec": {
   "argv": [
    "/usr/bin/python3",
    "-m",
    "ipykernel",
    "--HistoryManager.enabled=False",
    "--matplotlib=inline",
    "-c",
    "%config InlineBackend.figure_formats = set(['retina'])\nimport matplotlib; matplotlib.rcParams['figure.figsize'] = (12, 7)",
    "-f",
    "{connection_file}"
   ],
   "display_name": "Python 3 (system-wide)",
   "env": {
   },
   "language": "python",
   "metadata": {
    "cocalc": {
     "description": "Python 3 programming language",
     "priority": 100,
     "url": "https://www.python.org/"
    }
   },
   "name": "python3",
   "resource_dir": "/ext/jupyter/kernels/python3"
  }
 },
 "nbformat": 4,
 "nbformat_minor": 4
}