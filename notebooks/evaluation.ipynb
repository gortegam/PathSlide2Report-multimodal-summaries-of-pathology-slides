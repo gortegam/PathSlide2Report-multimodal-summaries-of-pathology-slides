{
 "cells": [
  {
   "cell_type": "code",
   "execution_count": 0,
   "id": "8d9612",
   "metadata": {
    "collapsed": false
   },
   "outputs": [
   ],
   "source": [
    "import numpy as np\n",
    "import pandas as pd\n",
    "from PIL import Image\n",
    "import matplotlib.pyplot as plt\n",
    "from sklearn.metrics.pairwise import cosine_similarity\n",
    "from sklearn.manifold import TSNE\n",
    "from nltk.translate.bleu_score import sentence_bleu\n",
    "from rouge_score import rouge_scorer\n",
    "\n",
    "from src.embedder import ClipEmbedder\n",
    "from src.captioner import BlipCaptioner\n",
    "from src.vectorstore import FaissStore\n",
    "from src.rag_inference import build_prompt"
   ]
  },
  {
   "cell_type": "code",
   "execution_count": 0,
   "id": "799fda",
   "metadata": {
    "collapsed": false
   },
   "outputs": [
   ],
   "source": [
    "df = pd.read_csv(\"../sample_data/metadata.csv\")\n",
    "img = Image.open(\"../sample_data/sample_slide.png\").convert(\"RGB\")\n",
    "\n",
    "# Instantiate models\n",
    "embedder = ClipEmbedder()\n",
    "captioner = BlipCaptioner()\n",
    "\n",
    "# Generate embedding + caption\n",
    "emb = embedder.embed_image(img)\n",
    "caption = captioner.caption(img)\n",
    "\n",
    "print(\"Caption:\", caption)\n",
    "print(\"Embedding shape:\", emb.shape)"
   ]
  },
  {
   "cell_type": "code",
   "execution_count": 0,
   "id": "a89f59",
   "metadata": {
    "collapsed": false
   },
   "outputs": [
   ],
   "source": [
    "# Fake \"other slides\" (normally you'd load multiple slides)\n",
    "emb2 = emb + np.random.normal(0, 0.01, emb.shape)  # very similar\n",
    "emb3 = np.random.normal(0, 1, emb.shape)           # random slide\n",
    "\n",
    "similarity_matrix = cosine_similarity(np.vstack([emb, emb2, emb3]))\n",
    "print(\"Cosine similarity matrix:\\n\", similarity_matrix)\n"
   ]
  },
  {
   "cell_type": "code",
   "execution_count": 0,
   "id": "09b190",
   "metadata": {
    "collapsed": false
   },
   "outputs": [
   ],
   "source": [
    "# Fake \"reference summaries\"\n",
    "reference_clinical = \"Liver tissue slide, stained with H&E, magnification 40x. Features suggest normal structure.\"\n",
    "generated_clinical = \"H&E stained liver tissue at 40x magnification, features appear normal.\"\n",
    "\n",
    "# BLEU\n",
    "bleu = sentence_bleu([reference_clinical.split()], generated_clinical.split())\n",
    "print(\"BLEU Score:\", bleu)\n",
    "\n",
    "# ROUGE\n",
    "scorer = rouge_scorer.RougeScorer(['rouge1','rougeL'], use_stemmer=True)\n",
    "scores = scorer.score(reference_clinical, generated_clinical)\n",
    "print(\"ROUGE:\", scores)"
   ]
  },
  {
   "cell_type": "code",
   "execution_count": 0,
   "id": "d932d7",
   "metadata": {
    "collapsed": false
   },
   "outputs": [
   ],
   "source": [
    "embeddings = np.vstack([emb, emb2, emb3])\n",
    "labels = [\"Slide1\", \"Slide2 (similar)\", \"Slide3 (different)\"]\n",
    "\n",
    "tsne = TSNE(n_components=2, random_state=42)\n",
    "reduced = tsne.fit_transform(embeddings)\n",
    "\n",
    "plt.figure(figsize=(6,6))\n",
    "for i, label in enumerate(labels):\n",
    "    plt.scatter(reduced[i,0], reduced[i,1], label=label)\n",
    "plt.legend()\n",
    "plt.title(\"t-SNE of Slide Embeddings\")\n",
    "plt.show()"
   ]
  },
  {
   "cell_type": "code",
   "execution_count": 0,
   "id": "ee1d30",
   "metadata": {
    "collapsed": false
   },
   "outputs": [
   ],
   "source": [
    "# -----------------------------------------------------\n",
    "# 6. Load Streamlit Logs for Evaluation\n",
    "# -----------------------------------------------------\n",
    "log_df = pd.read_csv(\"../logs/run_log.csv\")\n",
    "print(\"Loaded\", len(log_df), \"runs\")\n",
    "\n",
    "# Use the last run for demonstration\n",
    "last = log_df.iloc[-1]\n",
    "\n",
    "reference_summary = \"Liver tissue slide, stained with H&E at 40x magnification. Features suggest normal histological architecture.\"\n",
    "baseline_summary = last[\"baseline_summary\"]\n",
    "rag_summary = last[\"rag_summary\"]\n",
    "\n",
    "# Evaluate both\n",
    "bleu_base, rouge_base = evaluate_summary(reference_summary, baseline_summary)\n",
    "bleu_rag, rouge_rag = evaluate_summary(reference_summary, rag_summary)\n",
    "\n",
    "pd.DataFrame([\n",
    "    {\"Model\": \"Baseline\", \"BLEU\": bleu_base, \"ROUGE-1\": rouge_base['rouge1'].fmeasure, \"ROUGE-L\": rouge_base['rougeL'].fmeasure},\n",
    "    {\"Model\": \"RAG+Metadata\", \"BLEU\": bleu_rag, \"ROUGE-1\": rouge_rag['rouge1'].fmeasure, \"ROUGE-L\": rouge_rag['rougeL'].fmeasure}\n",
    "])\n"
   ]
  },
  {
   "cell_type": "code",
   "execution_count": 0,
   "id": "af94fa",
   "metadata": {
    "collapsed": false
   },
   "outputs": [
   ],
   "source": [
    "# -----------------------------------------------------\n",
    "# 7. Load TCGA Enriched Metadata\n",
    "# -----------------------------------------------------\n",
    "import os\n",
    "\n",
    "if os.path.exists(\"../data/patches_metadata_enriched.csv\"):\n",
    "    print(\"✅ Using enriched metadata (with diagnosis).\")\n",
    "    df_meta = pd.read_csv(\"../data/patches_metadata_enriched.csv\")\n",
    "elif os.path.exists(\"../data/patches_metadata.csv\"):\n",
    "    print(\"⚠️ Using basic metadata (no diagnosis). Run tcga_metadata_fetcher.py for enrichment.\")\n",
    "    df_meta = pd.read_csv(\"../data/patches_metadata.csv\")\n",
    "else:\n",
    "    raise FileNotFoundError(\"❌ No patch metadata found. Run tcga_preprocess.py first.\")\n"
   ]
  }
 ],
 "metadata": {
  "kernelspec": {
   "argv": [
    "/usr/bin/python3",
    "-m",
    "ipykernel",
    "--HistoryManager.enabled=False",
    "--matplotlib=inline",
    "-c",
    "%config InlineBackend.figure_formats = set(['retina'])\nimport matplotlib; matplotlib.rcParams['figure.figsize'] = (12, 7)",
    "-f",
    "{connection_file}"
   ],
   "display_name": "Python 3 (system-wide)",
   "env": {
   },
   "language": "python",
   "metadata": {
    "cocalc": {
     "description": "Python 3 programming language",
     "priority": 100,
     "url": "https://www.python.org/"
    }
   },
   "name": "python3",
   "resource_dir": "/ext/jupyter/kernels/python3"
  }
 },
 "nbformat": 4,
 "nbformat_minor": 4
}